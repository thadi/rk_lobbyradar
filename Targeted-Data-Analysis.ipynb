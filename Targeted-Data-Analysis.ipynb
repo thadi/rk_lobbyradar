{
 "cells": [
  {
   "cell_type": "markdown",
   "metadata": {},
   "source": [
    "# Targeted Data-Analysis\n",
    "After exploring the data we aim to create qualitative and quantitative Information from it.\n",
    "Here we will show which Entities have relations to which organisation and show statistics for the entire collection. "
   ]
  },
  {
   "cell_type": "code",
   "execution_count": 10,
   "metadata": {
    "collapsed": true
   },
   "outputs": [],
   "source": [
    "#import of the needed libraries\n",
    "from pymongo import MongoClient\n",
    "from bson.objectid import ObjectId\n",
    "\n",
    "#connection to the local mongodb\n",
    "client = MongoClient()\n",
    "#select the db lobbyradar \n",
    "db = client.lobbyradar\n",
    "\n",
    "#the two needed collections\n",
    "Entities = db.entities\n",
    "Relations = db.relations"
   ]
  },
  {
   "cell_type": "code",
   "execution_count": 11,
   "metadata": {
    "collapsed": true
   },
   "outputs": [],
   "source": [
    "def show_relations_of_type(relation_type, display = 5):\n",
    "    ''' \n",
    "    \n",
    "    person or entity (organization) and \n",
    "    '''\n",
    "    relation_cursor = Relations.find({'type': relation_type})\n",
    "    general_count = 0\n",
    "    person_to_org = 0\n",
    "    org_to_org = 0\n",
    "    errors = 0\n",
    "\n",
    "    # iterates over all relations with the given type\n",
    "    for relation in relation_cursor:\n",
    "        # remove faulty relations (which have less than two entities):\n",
    "        if len(relation['entities']) < 2:\n",
    "            errors += 1\n",
    "            continue\n",
    "            \n",
    "        source_id = relation['entities'][0]\n",
    "        target_id = relation['entities'][1]\n",
    "        source = Entities.find_one({'_id': ObjectId(source_id)})\n",
    "        target = Entities.find_one({'_id': ObjectId(target_id)})\n",
    "        # check the type of the subject and object of a relation and\n",
    "        # counts the combinations: person to organization,  organization to organization\n",
    "        # (the object should always be an organization)\n",
    "        if source and target:\n",
    "            if source['type'] == 'person' and target['type'] == 'entity':\n",
    "                person_to_org += 1\n",
    "            elif source['type'] == 'entity' and target['type'] == 'entity':\n",
    "                org_to_org += 1\n",
    "            else:\n",
    "                errors += 1\n",
    "            if general_count < display:\n",
    "                print source['name'] + ' (' + source['type'] + ')' + \" has relation \" + relation_type + ' to ' + target['name'] + ' (' + target['type'] + ')'\n",
    "                print \"\\n\"\n",
    "        general_count += 1\n",
    "    # display a specifiable number of entries (default 5)\n",
    "    print \"statisics for relation type: \" + relation_type\n",
    "    print \"count relation: \" + str(general_count)\n",
    "    print \"\\t person to organization: \" + str(person_to_org)\n",
    "    print \"\\t organization to organization: \" + str(org_to_org)\n",
    "    print \"\\t errors: \" + str(errors)\n",
    "\n"
   ]
  },
  {
   "cell_type": "code",
   "execution_count": 12,
   "metadata": {
    "collapsed": false
   },
   "outputs": [
    {
     "name": "stdout",
     "output_type": "stream",
     "text": [
      "Katrin Albsteiger (person) has relation member to CDU/CSU-Fraktion (entity)\n",
      "\n",
      "\n",
      "Stephan Albani (person) has relation member to CDU/CSU-Fraktion (entity)\n",
      "\n",
      "\n",
      "Kerstin Andreae (person) has relation member to Bundestagsfraktion der Grünen (entity)\n",
      "\n",
      "\n",
      "Peter Altmaier (person) has relation member to CDU/CSU-Fraktion (entity)\n",
      "\n",
      "\n",
      "Katrin Albsteiger (person) has relation member to Ausschuss für Bildung, Forschung und Technikfolgenabschätzung (entity)\n",
      "\n",
      "\n",
      "statisics for relation type: member\n",
      "count relation: 4287\n",
      "\t person to organization: 4098\n",
      "\t organization to organization: 118\n",
      "\t errors: 50\n"
     ]
    }
   ],
   "source": [
    "show_relations_of_type('member', 5)"
   ]
  }
 ],
 "metadata": {
  "kernelspec": {
   "display_name": "Python 2",
   "language": "python",
   "name": "python2"
  },
  "language_info": {
   "codemirror_mode": {
    "name": "ipython",
    "version": 2
   },
   "file_extension": ".py",
   "mimetype": "text/x-python",
   "name": "python",
   "nbconvert_exporter": "python",
   "pygments_lexer": "ipython2",
   "version": "2.7.6"
  }
 },
 "nbformat": 4,
 "nbformat_minor": 0
}
